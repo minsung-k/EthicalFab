{
 "cells": [
  {
   "cell_type": "code",
   "execution_count": null,
   "id": "e39c953e-6eb2-48c3-b7e7-0abf22faaa87",
   "metadata": {},
   "outputs": [],
   "source": [
    "from util import data_generate, train, cnnlstm, visiontransformer, function, cnn3d, DPtrain\n",
    "\n",
    "import os\n",
    "\n",
    "import torch\n",
    "import torch.nn as nn\n",
    "\n",
    "import warnings\n",
    "warnings.filterwarnings('ignore')"
   ]
  },
  {
   "cell_type": "code",
   "execution_count": null,
   "id": "1a3dc3c9-e5ba-4582-88f5-4b08ab9bd11a",
   "metadata": {},
   "outputs": [],
   "source": [
    "device = torch.device(\"cuda\" if torch.cuda.is_available() else \"cpu\")"
   ]
  },
  {
   "cell_type": "code",
   "execution_count": null,
   "id": "7e91e29a-eb52-492b-b1c4-dd3c3bff1b97",
   "metadata": {},
   "outputs": [],
   "source": [
    "# load data\n",
    "batch_size = 512\n",
    "path_train = './train_split'\n",
    "path_test = './test_split'\n",
    "\n",
    "\n",
    "train_dataset = data_generate.VideoFrameDataset(path_train, 196)\n",
    "test_dataset = data_generate.VideoFrameDataset(path_test, 196)\n",
    "\n",
    "train_loader = DataLoader(train_dataset, batch_size=batch_size, shuffle=True)\n",
    "test_loader = DataLoader(test_dataset, batch_size=batch_size, shuffle=True)\n",
    "\n",
    "# Initialize model, loss function, and optimizer\n",
    "num_classes = 10  # Set this to the number of classes in your dataset\n",
    "num_epochs = 20"
   ]
  },
  {
   "cell_type": "code",
   "execution_count": null,
   "id": "e6007c9a-3712-4931-806c-a4a8639e6c20",
   "metadata": {},
   "outputs": [],
   "source": [
    "model = cnnlstm.cnnlstm(num_classes).to('cuda')\n",
    "criterion = nn.CrossEntropyLoss(reduction='none')  # Per-sample loss\n",
    "optimizer = torch.optim.Adam(model.parameters(), lr=0.001)\n",
    "\n",
    "epoch_results_cnnlstm = train.cnnlstm(model, train_loader, test_loader, criterion, optimizer, num_epochs)"
   ]
  }
 ],
 "metadata": {
  "kernelspec": {
   "display_name": "Python 3 (ipykernel)",
   "language": "python",
   "name": "python3"
  },
  "language_info": {
   "codemirror_mode": {
    "name": "ipython",
    "version": 3
   },
   "file_extension": ".py",
   "mimetype": "text/x-python",
   "name": "python",
   "nbconvert_exporter": "python",
   "pygments_lexer": "ipython3",
   "version": "3.12.7"
  }
 },
 "nbformat": 4,
 "nbformat_minor": 5
}
