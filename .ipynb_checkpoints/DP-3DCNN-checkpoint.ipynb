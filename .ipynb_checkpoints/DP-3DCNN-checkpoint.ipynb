{
 "cells": [
  {
   "cell_type": "code",
   "execution_count": 1,
   "id": "4df6d8bb-bd4a-4312-a9ed-a4d97869a5f4",
   "metadata": {},
   "outputs": [],
   "source": [
    "from util import data_generate, train, cnnlstm, cnn3d, DPtrain\n",
    "\n",
    "import os\n",
    "\n",
    "import torch\n",
    "import torch.nn as nn\n",
    "from torch.utils.data import DataLoader\n",
    "\n",
    "from opacus.layers import DPLSTM\n",
    "from opacus import PrivacyEngine\n",
    "from opacus.utils.batch_memory_manager import BatchMemoryManager\n",
    "\n",
    "from opacus.validators import ModuleValidator\n",
    "\n",
    "import warnings\n",
    "warnings.filterwarnings('ignore')"
   ]
  },
  {
   "cell_type": "code",
   "execution_count": 2,
   "id": "7f9bdfd4-6645-4062-a6d7-38d62ef93099",
   "metadata": {},
   "outputs": [],
   "source": [
    "path_train = r'C:\\Users\\mk47369\\0. data\\malicious\\train_split'\n",
    "path_test = r'C:\\Users\\mk47369\\0. data\\malicious\\test_split'"
   ]
  },
  {
   "cell_type": "code",
   "execution_count": null,
   "id": "71169118-0ffe-43f8-8021-02350274c285",
   "metadata": {},
   "outputs": [],
   "source": [
    "# load data\n",
    "batch_size = 512\n",
    "path_train = './train_split'\n",
    "path_test = './test_split'\n",
    "\n",
    "\n",
    "train_dataset = data_generate.VideoFrameDataset(path_train, 196)\n",
    "test_dataset = data_generate.VideoFrameDataset(path_test, 196)\n",
    "\n",
    "train_loader = DataLoader(train_dataset, batch_size=batch_size, shuffle=True)\n",
    "test_loader = DataLoader(test_dataset, batch_size=batch_size, shuffle=True)\n",
    "\n",
    "# Initialize model, loss function, and optimizer\n",
    "num_classes = 10  # Set this to the number of classes in your dataset\n",
    "num_epochs = 20"
   ]
  },
  {
   "cell_type": "code",
   "execution_count": null,
   "id": "f436d0e1-03b5-4023-8cb8-b605b936403f",
   "metadata": {},
   "outputs": [],
   "source": [
    "model = cnn3d.cnn3d(num_classes=10).to('cuda')\n",
    "criterion = nn.CrossEntropyLoss(reduction='none')  # Per-sample loss\n",
    "\n",
    "errors = ModuleValidator.validate(model, strict=False)\n",
    "errors[-5:]\n",
    "\n",
    "model = ModuleValidator.fix(model)\n",
    "\n",
    "EPSILON = 1\n",
    "MAX_GRAD_NORM = 1.2\n",
    "DELTA = 1e-5\n",
    "\n",
    "EPOCHS = num_epochs\n",
    "\n",
    "privacy_engine = PrivacyEngine()\n",
    "optimizer = torch.optim.Adam(model.parameters(), lr=0.001)\n",
    "\n",
    "model, optimizer, train_loader = privacy_engine.make_private_with_epsilon(\n",
    "    module=model,\n",
    "    optimizer=optimizer,\n",
    "    data_loader=train_loader,\n",
    "    epochs=EPOCHS,\n",
    "    target_epsilon=EPSILON,\n",
    "    poisson_sampling = False,\n",
    "    target_delta=DELTA,\n",
    "    max_grad_norm=MAX_GRAD_NORM,\n",
    ")\n",
    "\n",
    "epoch_results_DP3dcnn = DPtrain.DPcnn3d(model, train_loader, test_loader, criterion, optimizer, num_epochs,EPSILON)"
   ]
  }
 ],
 "metadata": {
  "kernelspec": {
   "display_name": "Python 3 (ipykernel)",
   "language": "python",
   "name": "python3"
  },
  "language_info": {
   "codemirror_mode": {
    "name": "ipython",
    "version": 3
   },
   "file_extension": ".py",
   "mimetype": "text/x-python",
   "name": "python",
   "nbconvert_exporter": "python",
   "pygments_lexer": "ipython3",
   "version": "3.12.7"
  }
 },
 "nbformat": 4,
 "nbformat_minor": 5
}
