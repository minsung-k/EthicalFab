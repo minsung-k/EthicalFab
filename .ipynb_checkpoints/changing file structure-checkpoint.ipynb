{
 "cells": [
  {
   "cell_type": "markdown",
   "id": "651b23db-d28c-4551-b2da-508a49bbbf22",
   "metadata": {},
   "source": [
    "## File Structure"
   ]
  },
  {
   "cell_type": "markdown",
   "id": "a18be776-096c-4fc7-8836-b155d244d293",
   "metadata": {},
   "source": [
    "## original file --> train / test split"
   ]
  },
  {
   "cell_type": "code",
   "execution_count": null,
   "id": "0792f314-ef12-423e-a056-eb81e251e0dc",
   "metadata": {},
   "outputs": [],
   "source": [
    "import os\n",
    "import shutil\n",
    "from pathlib import Path\n",
    "\n",
    "# Define paths for your dataset and output directories\n",
    "dataset_path = Path('C:/Users/mk47369/0. data/malicious/lstm_images')\n",
    "train_path = Path('C:/Users/mk47369/0. data/malicious/train')\n",
    "test_path = Path('C:/Users/mk47369/0. data/malicious/test')\n",
    "\n",
    "# Create train and test directories if they don't exist\n",
    "train_path.mkdir(parents=True, exist_ok=True)\n",
    "test_path.mkdir(parents=True, exist_ok=True)\n",
    "\n",
    "# Loop through each class folder in the dataset\n",
    "for class_dir in dataset_path.iterdir():\n",
    "    if class_dir.is_dir():  # Ensure it's a directory\n",
    "        # Create corresponding class directories in train and test\n",
    "        train_class_dir = train_path / class_dir.name\n",
    "        test_class_dir = test_path / class_dir.name\n",
    "        train_class_dir.mkdir(parents=True, exist_ok=True)\n",
    "        test_class_dir.mkdir(parents=True, exist_ok=True)\n",
    "\n",
    "        # List all image files in the class directory\n",
    "        images = list(class_dir.glob('*.png'))  # Change the pattern if needed\n",
    "        \n",
    "        # Calculate the split index\n",
    "        split_index = int(len(images) * 0.7)\n",
    "\n",
    "        # Copy the first 70% of images to train folder\n",
    "        for img in images[:split_index]:\n",
    "            shutil.copy(img, train_class_dir / img.name)\n",
    "\n",
    "        # Copy the last 30% of images to test folder\n",
    "        for img in images[split_index:]:\n",
    "            shutil.copy(img, test_class_dir / img.name)\n",
    "\n",
    "print(\"Dataset split into train and test folders successfully.\")\n"
   ]
  },
  {
   "cell_type": "markdown",
   "id": "ba8b1ca6-40ae-457f-b271-94f7e734f96e",
   "metadata": {},
   "source": [
    "## original file --> cluster each video's frames"
   ]
  },
  {
   "cell_type": "markdown",
   "id": "e4377ff8-db95-4ae3-94d0-debb0d0d28e5",
   "metadata": {},
   "source": [
    "#### Need to run train and test folder, so two times"
   ]
  },
  {
   "cell_type": "code",
   "execution_count": 10,
   "id": "0b67b1f3-090b-45df-bb24-e6bab1b0b478",
   "metadata": {},
   "outputs": [
    {
     "name": "stdout",
     "output_type": "stream",
     "text": [
      "Images organized into video folders successfully.\n",
      "Images organized into video folders successfully.\n"
     ]
    }
   ],
   "source": [
    "import os\n",
    "import shutil\n",
    "from pathlib import Path\n",
    "\n",
    "for folder_name in ['train', 'test']:\n",
    "    # Define the paths for the source dataset and the new organized dataset\n",
    "    source_dataset_path = Path('C:/Users/mk47369/0. data/malicious/'+  folder_name)\n",
    "    new_dataset_path = Path('C:/Users/mk47369/0. data/malicious/' +  folder_name+ '_split')\n",
    "    \n",
    "    # Create the new dataset directory if it doesn't exist\n",
    "    new_dataset_path.mkdir(parents=True, exist_ok=True)\n",
    "    \n",
    "    # Loop through each class folder in the source dataset\n",
    "    for class_dir in source_dataset_path.iterdir():\n",
    "        if class_dir.is_dir():  # Ensure it's a directory\n",
    "            # Create the corresponding class directory in the new dataset\n",
    "            new_class_dir = new_dataset_path / class_dir.name\n",
    "            new_class_dir.mkdir(parents=True, exist_ok=True)\n",
    "    \n",
    "            # Create a dictionary to store frames for each video\n",
    "            video_dict = {}\n",
    "    \n",
    "            # Loop through each image file in the class directory\n",
    "            for img in class_dir.glob('*.png'):  # Adjust the extension if needed\n",
    "                # Extract the video name from the image filename\n",
    "                # Assuming filenames are structured as \"angle_version_numframe.png\"\n",
    "                video_name = '_'.join(img.stem.split('_')[:-1])  # Take everything but the last part\n",
    "    \n",
    "                # Create a list for this video if it doesn't exist\n",
    "                if video_name not in video_dict:\n",
    "                    video_dict[video_name] = []\n",
    "                video_dict[video_name].append(img)\n",
    "    \n",
    "            # Create video folders and copy frames\n",
    "            for video_name, frames in video_dict.items():\n",
    "                video_folder = new_class_dir / video_name\n",
    "                video_folder.mkdir(parents=True, exist_ok=True)\n",
    "                \n",
    "                for frame in frames:\n",
    "                    shutil.copy(frame, video_folder / frame.name)\n",
    "    \n",
    "    print(\"Images organized into video folders successfully.\")\n"
   ]
  }
 ],
 "metadata": {
  "kernelspec": {
   "display_name": "Python 3 (ipykernel)",
   "language": "python",
   "name": "python3"
  },
  "language_info": {
   "codemirror_mode": {
    "name": "ipython",
    "version": 3
   },
   "file_extension": ".py",
   "mimetype": "text/x-python",
   "name": "python",
   "nbconvert_exporter": "python",
   "pygments_lexer": "ipython3",
   "version": "3.12.7"
  }
 },
 "nbformat": 4,
 "nbformat_minor": 5
}
