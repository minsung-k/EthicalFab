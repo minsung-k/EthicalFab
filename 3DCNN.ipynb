{
 "cells": [
  {
   "cell_type": "code",
   "execution_count": 1,
   "id": "1a76e9e3-1b6b-42e3-b402-67466d2579c5",
   "metadata": {},
   "outputs": [],
   "source": [
    "from util import data_generate, train, cnnlstm, cnn3d, DPtrain\n",
    "\n",
    "import os\n",
    "\n",
    "import torch\n",
    "import torch.nn as nn\n",
    "from torch.utils.data import DataLoader\n",
    "\n",
    "import warnings\n",
    "warnings.filterwarnings('ignore')"
   ]
  },
  {
   "cell_type": "code",
   "execution_count": null,
   "id": "295cd7ce-6cd6-49a6-b3d5-35f9ee680dfe",
   "metadata": {},
   "outputs": [],
   "source": [
    "# load data\n",
    "batch_size = 512\n",
    "path_train = './train_split'\n",
    "path_test = './test_split'\n",
    "\n",
    "\n",
    "train_dataset = data_generate.VideoFrameDataset(path_train, 196)\n",
    "test_dataset = data_generate.VideoFrameDataset(path_test, 196)\n",
    "\n",
    "train_loader = DataLoader(train_dataset, batch_size=batch_size, shuffle=True)\n",
    "test_loader = DataLoader(test_dataset, batch_size=batch_size, shuffle=True)\n",
    "\n",
    "# Initialize model, loss function, and optimizer\n",
    "num_classes = 10  # Set this to the number of classes in your dataset\n",
    "num_epochs = 1"
   ]
  },
  {
   "cell_type": "code",
   "execution_count": 5,
   "id": "3991eabc-8452-4616-a267-a798dbcd535a",
   "metadata": {},
   "outputs": [
    {
     "name": "stdout",
     "output_type": "stream",
     "text": [
      "Epoch [1/1], Train Loss: 1.2561, Train Accuracy: 0.5576, Val Loss: 2.1376, Val Accuracy: 0.4270\n",
      "Interval Accuracies: {0: 0.3099946552645644, 1: 0.37840726884019243, 2: 0.39551042223409943, 3: 0.4035275253874933, 4: 0.45537145911277394, 5: 0.46285408872260825, 6: 0.4820951362907536, 7: 0.4719401389631213, 8: 0.46178514163548906, 9: 0.4484233030464992}\n"
     ]
    }
   ],
   "source": [
    "model = cnn3d.cnn3d(num_classes).to('cuda')\n",
    "criterion = nn.CrossEntropyLoss(reduction='none')  # Per-sample loss\n",
    "optimizer = torch.optim.Adam(model.parameters(), lr=0.001)\n",
    "\n",
    "epoch_results_3dcnn = train.cnn3d(model, train_loader, test_loader, criterion, optimizer, num_epochs)"
   ]
  }
 ],
 "metadata": {
  "kernelspec": {
   "display_name": "Python 3 (ipykernel)",
   "language": "python",
   "name": "python3"
  },
  "language_info": {
   "codemirror_mode": {
    "name": "ipython",
    "version": 3
   },
   "file_extension": ".py",
   "mimetype": "text/x-python",
   "name": "python",
   "nbconvert_exporter": "python",
   "pygments_lexer": "ipython3",
   "version": "3.12.7"
  }
 },
 "nbformat": 4,
 "nbformat_minor": 5
}
